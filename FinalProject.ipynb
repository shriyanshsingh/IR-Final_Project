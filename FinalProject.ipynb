{
  "cells": [
    {
      "cell_type": "code",
      "source": [
        "!apt-get install openjdk-21-jre-headless -qq > /dev/null\n",
        "import os\n",
        "os.environ[\"JAVA_HOME\"] = \"/usr/lib/jvm/java-21-openjdk-amd64\"\n",
        "!update-alternatives --set java /usr/lib/jvm/java-21-openjdk-amd64/bin/java\n",
        "!java -version"
      ],
      "metadata": {
        "colab": {
          "base_uri": "https://localhost:8080/"
        },
        "id": "RzM6O_WuBnhl",
        "outputId": "f2b3e2f3-0910-48be-862f-0d784017c12e"
      },
      "id": "RzM6O_WuBnhl",
      "execution_count": 4,
      "outputs": [
        {
          "output_type": "stream",
          "name": "stdout",
          "text": [
            "openjdk version \"21.0.5\" 2024-10-15\n",
            "OpenJDK Runtime Environment (build 21.0.5+11-Ubuntu-1ubuntu122.04)\n",
            "OpenJDK 64-Bit Server VM (build 21.0.5+11-Ubuntu-1ubuntu122.04, mixed mode, sharing)\n"
          ]
        }
      ]
    },
    {
      "cell_type": "code",
      "execution_count": 21,
      "id": "d86bfeeb-f61d-4226-90ee-93388ffca3f0",
      "metadata": {
        "id": "d86bfeeb-f61d-4226-90ee-93388ffca3f0"
      },
      "outputs": [],
      "source": [
        "import pyserini\n",
        "from pyserini.search.lucene import LuceneSearcher\n",
        "from pyserini.index import LuceneIndexReader\n",
        "from IPython.core.display import display, HTML\n",
        "from pyserini.search import get_topics\n",
        "import heapq"
      ]
    },
    {
      "cell_type": "code",
      "source": [
        "def initialize_model(index_path):\n",
        "  searcher = LuceneSearcher.from_prebuilt_index(index_path)\n",
        "  reader = LuceneIndexReader.from_prebuilt_index(index_path)\n",
        "  return searcher, reader"
      ],
      "metadata": {
        "id": "4sxMal77-9Tp"
      },
      "id": "4sxMal77-9Tp",
      "execution_count": 11,
      "outputs": []
    },
    {
      "cell_type": "code",
      "source": [
        "MAX_RECS = 5\n",
        "\n",
        "def get_recs(query: str, n: int, searcher: LuceneSearcher, reader: LuceneIndexReader) -> list[str]:\n",
        "  hits = searcher.search(query, n)\n",
        "  for i in hits:\n",
        "    doc_vec = reader.get_document_vector(i.docid)\n",
        "    h = []\n",
        "    for t, f in doc_vec.items():\n",
        "      tf = f / len(doc_vec)\n",
        "      df = reader.get_term_counts(t)[0]\n",
        "      if df == 0:\n",
        "        idf = 0\n",
        "      else:\n",
        "        idf = reader.stats()['documents'] / df\n",
        "      tf_idf = tf * idf\n",
        "      heapq.heappush(h, (tf_idf, t))\n",
        "      if len(h) > MAX_RECS:\n",
        "        heapq.heappop(h)\n",
        "  return [heapq.heappop(h)[1] for _ in range(len(h))]"
      ],
      "metadata": {
        "id": "Pw4i7THmG-Zf"
      },
      "id": "Pw4i7THmG-Zf",
      "execution_count": 31,
      "outputs": []
    },
    {
      "cell_type": "code",
      "source": [
        "query = \"Are there black bear attacks there?\"\n",
        "\n",
        "searcher, reader = initialize_model(\"robust04\")\n",
        "reader.get_term_counts(\"be\")\n",
        "get_recs(query, 10, searcher, reader)"
      ],
      "metadata": {
        "colab": {
          "base_uri": "https://localhost:8080/",
          "height": 441
        },
        "id": "69ndxMEgGRED",
        "outputId": "44dee0b7-e6ec-4b92-8404-0272274ddbb2"
      },
      "id": "69ndxMEgGRED",
      "execution_count": 33,
      "outputs": [
        {
          "output_type": "error",
          "ename": "JavaException",
          "evalue": "JVM exception occurred: Index 0 out of bounds for length 0 java.lang.IndexOutOfBoundsException",
          "traceback": [
            "\u001b[0;31m---------------------------------------------------------------------------\u001b[0m",
            "\u001b[0;31mJavaException\u001b[0m                             Traceback (most recent call last)",
            "\u001b[0;32m<ipython-input-33-db63104064b4>\u001b[0m in \u001b[0;36m<cell line: 4>\u001b[0;34m()\u001b[0m\n\u001b[1;32m      2\u001b[0m \u001b[0;34m\u001b[0m\u001b[0m\n\u001b[1;32m      3\u001b[0m \u001b[0msearcher\u001b[0m\u001b[0;34m,\u001b[0m \u001b[0mreader\u001b[0m \u001b[0;34m=\u001b[0m \u001b[0minitialize_model\u001b[0m\u001b[0;34m(\u001b[0m\u001b[0;34m\"robust04\"\u001b[0m\u001b[0;34m)\u001b[0m\u001b[0;34m\u001b[0m\u001b[0;34m\u001b[0m\u001b[0m\n\u001b[0;32m----> 4\u001b[0;31m \u001b[0mreader\u001b[0m\u001b[0;34m.\u001b[0m\u001b[0mget_term_counts\u001b[0m\u001b[0;34m(\u001b[0m\u001b[0;34m\"be\"\u001b[0m\u001b[0;34m)\u001b[0m\u001b[0;34m\u001b[0m\u001b[0;34m\u001b[0m\u001b[0m\n\u001b[0m\u001b[1;32m      5\u001b[0m \u001b[0mget_recs\u001b[0m\u001b[0;34m(\u001b[0m\u001b[0mquery\u001b[0m\u001b[0;34m,\u001b[0m \u001b[0;36m10\u001b[0m\u001b[0;34m,\u001b[0m \u001b[0msearcher\u001b[0m\u001b[0;34m,\u001b[0m \u001b[0mreader\u001b[0m\u001b[0;34m)\u001b[0m\u001b[0;34m\u001b[0m\u001b[0;34m\u001b[0m\u001b[0m\n",
            "\u001b[0;32m/usr/local/lib/python3.10/dist-packages/pyserini/index/lucene/_base.py\u001b[0m in \u001b[0;36mget_term_counts\u001b[0;34m(self, term, analyzer)\u001b[0m\n\u001b[1;32m    317\u001b[0m             \u001b[0manalyzer\u001b[0m \u001b[0;34m=\u001b[0m \u001b[0mget_lucene_analyzer\u001b[0m\u001b[0;34m(\u001b[0m\u001b[0mstemming\u001b[0m\u001b[0;34m=\u001b[0m\u001b[0;32mFalse\u001b[0m\u001b[0;34m,\u001b[0m \u001b[0mstopwords\u001b[0m\u001b[0;34m=\u001b[0m\u001b[0;32mFalse\u001b[0m\u001b[0;34m)\u001b[0m\u001b[0;34m\u001b[0m\u001b[0;34m\u001b[0m\u001b[0m\n\u001b[1;32m    318\u001b[0m \u001b[0;34m\u001b[0m\u001b[0m\n\u001b[0;32m--> 319\u001b[0;31m         \u001b[0mterm_map\u001b[0m \u001b[0;34m=\u001b[0m \u001b[0mself\u001b[0m\u001b[0;34m.\u001b[0m\u001b[0mobject\u001b[0m\u001b[0;34m.\u001b[0m\u001b[0mgetTermCountsWithAnalyzer\u001b[0m\u001b[0;34m(\u001b[0m\u001b[0mself\u001b[0m\u001b[0;34m.\u001b[0m\u001b[0mreader\u001b[0m\u001b[0;34m,\u001b[0m \u001b[0mterm\u001b[0m\u001b[0;34m,\u001b[0m \u001b[0manalyzer\u001b[0m\u001b[0;34m)\u001b[0m\u001b[0;34m\u001b[0m\u001b[0;34m\u001b[0m\u001b[0m\n\u001b[0m\u001b[1;32m    320\u001b[0m \u001b[0;34m\u001b[0m\u001b[0m\n\u001b[1;32m    321\u001b[0m         \u001b[0;32mreturn\u001b[0m \u001b[0mterm_map\u001b[0m\u001b[0;34m.\u001b[0m\u001b[0mget\u001b[0m\u001b[0;34m(\u001b[0m\u001b[0;34m'docFreq'\u001b[0m\u001b[0;34m)\u001b[0m\u001b[0;34m,\u001b[0m \u001b[0mterm_map\u001b[0m\u001b[0;34m.\u001b[0m\u001b[0mget\u001b[0m\u001b[0;34m(\u001b[0m\u001b[0;34m'collectionFreq'\u001b[0m\u001b[0;34m)\u001b[0m\u001b[0;34m\u001b[0m\u001b[0;34m\u001b[0m\u001b[0m\n",
            "\u001b[0;32mjnius/jnius_export_class.pxi\u001b[0m in \u001b[0;36mjnius.JavaMethod.__call__\u001b[0;34m()\u001b[0m\n",
            "\u001b[0;32mjnius/jnius_export_class.pxi\u001b[0m in \u001b[0;36mjnius.JavaMethod.call_staticmethod\u001b[0;34m()\u001b[0m\n",
            "\u001b[0;32mjnius/jnius_utils.pxi\u001b[0m in \u001b[0;36mjnius.check_exception\u001b[0;34m()\u001b[0m\n",
            "\u001b[0;31mJavaException\u001b[0m: JVM exception occurred: Index 0 out of bounds for length 0 java.lang.IndexOutOfBoundsException"
          ]
        }
      ]
    }
  ],
  "metadata": {
    "kernelspec": {
      "display_name": "Python 3 (ipykernel)",
      "language": "python",
      "name": "python3"
    },
    "language_info": {
      "codemirror_mode": {
        "name": "ipython",
        "version": 3
      },
      "file_extension": ".py",
      "mimetype": "text/x-python",
      "name": "python",
      "nbconvert_exporter": "python",
      "pygments_lexer": "ipython3",
      "version": "3.12.7"
    },
    "colab": {
      "provenance": [],
      "toc_visible": true
    }
  },
  "nbformat": 4,
  "nbformat_minor": 5
}