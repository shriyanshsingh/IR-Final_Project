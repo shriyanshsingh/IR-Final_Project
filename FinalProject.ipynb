{
  "cells": [
    {
      "cell_type": "code",
      "source": [
        "!apt-get install openjdk-21-jre-headless -qq > /dev/null\n",
        "import os\n",
        "os.environ[\"JAVA_HOME\"] = \"/usr/lib/jvm/java-21-openjdk-amd64\"\n",
        "!update-alternatives --set java /usr/lib/jvm/java-21-openjdk-amd64/bin/java\n",
        "!java -version"
      ],
      "metadata": {
        "colab": {
          "base_uri": "https://localhost:8080/"
        },
        "id": "RzM6O_WuBnhl",
        "outputId": "50305853-8d54-4217-8fb3-cb4d64dc75e7"
      },
      "id": "RzM6O_WuBnhl",
      "execution_count": 1,
      "outputs": [
        {
          "output_type": "stream",
          "name": "stdout",
          "text": [
            "openjdk version \"21.0.5\" 2024-10-15\n",
            "OpenJDK Runtime Environment (build 21.0.5+11-Ubuntu-1ubuntu122.04)\n",
            "OpenJDK 64-Bit Server VM (build 21.0.5+11-Ubuntu-1ubuntu122.04, mixed mode, sharing)\n"
          ]
        }
      ]
    },
    {
      "cell_type": "code",
      "source": [
        "#!pip install pyserini\n",
        "#!pip install --upgrade openai"
      ],
      "metadata": {
        "id": "wwA2pat1f9Rq"
      },
      "id": "wwA2pat1f9Rq",
      "execution_count": 2,
      "outputs": []
    },
    {
      "cell_type": "code",
      "execution_count": 66,
      "id": "d86bfeeb-f61d-4226-90ee-93388ffca3f0",
      "metadata": {
        "id": "d86bfeeb-f61d-4226-90ee-93388ffca3f0"
      },
      "outputs": [],
      "source": [
        "import pyserini\n",
        "from pyserini.search.lucene import LuceneSearcher\n",
        "from pyserini.index import LuceneIndexReader\n",
        "from IPython.core.display import display, HTML\n",
        "from pyserini.search import get_topics\n",
        "import heapq\n",
        "import re"
      ]
    },
    {
      "cell_type": "code",
      "source": [
        "def run_model(query, index_path):\n",
        "  query = \"Are there black bear attacks there?\"\n",
        "\n",
        "  searcher, reader = initialize_model(\"robust04\")\n",
        "  print(get_recs(query, 10, searcher, reader))"
      ],
      "metadata": {
        "id": "a60GSHA_UElR"
      },
      "id": "a60GSHA_UElR",
      "execution_count": 8,
      "outputs": []
    },
    {
      "cell_type": "code",
      "source": [
        "def initialize_model(index_path):\n",
        "  searcher = LuceneSearcher.from_prebuilt_index(index_path)\n",
        "  reader = LuceneIndexReader.from_prebuilt_index(index_path)\n",
        "  return searcher, reader"
      ],
      "metadata": {
        "id": "4sxMal77-9Tp"
      },
      "id": "4sxMal77-9Tp",
      "execution_count": 9,
      "outputs": []
    },
    {
      "cell_type": "code",
      "source": [
        "def generate_token_mapping(docid, doc_vec, reader):\n",
        "  # this takes forever but works\n",
        "  doc = reader.doc(docid).raw().lower()\n",
        "  mapping = {}\n",
        "  for word in re.split(r'\\s+', doc):\n",
        "      analyzed = reader.analyze(word)\n",
        "      for t in doc_vec:\n",
        "        if t in analyzed:\n",
        "          word = re.sub(r'\\W+', '', word)\n",
        "          mapping[t] = word\n",
        "  return mapping"
      ],
      "metadata": {
        "id": "Th54SdY3qcUB"
      },
      "id": "Th54SdY3qcUB",
      "execution_count": 101,
      "outputs": []
    },
    {
      "cell_type": "code",
      "source": [
        "MAX_RECS = 5\n",
        "\n",
        "def get_recs(query: str, n: int, searcher: LuceneSearcher, reader: LuceneIndexReader) -> list[tuple]:\n",
        "  hits = searcher.search(query, n)\n",
        "  for i in hits:\n",
        "    doc_vec = reader.get_document_vector(i.docid)\n",
        "\n",
        "    # to \"untokenize\" the data, we need to map original terms to tokens\n",
        "    m = generate_token_mapping(i.docid, doc_vec, reader)\n",
        "\n",
        "    h = []\n",
        "    for t, f in doc_vec.items():\n",
        "      tf = f / len(doc_vec)\n",
        "      try:\n",
        "        df = reader.get_term_counts(t)[0]\n",
        "      except: # i have no idea why this is throwing an error, needs a closer look\n",
        "        df = 0\n",
        "      if df == 0:\n",
        "        idf = 0\n",
        "      else:\n",
        "        idf = reader.stats()['documents'] / df\n",
        "      tf_idf = tf * idf\n",
        "      heapq.heappush(h, (tf_idf, m[t]))\n",
        "      if len(h) > MAX_RECS:\n",
        "        heapq.heappop(h)\n",
        "  return h"
      ],
      "metadata": {
        "id": "Pw4i7THmG-Zf"
      },
      "id": "Pw4i7THmG-Zf",
      "execution_count": 102,
      "outputs": []
    },
    {
      "cell_type": "code",
      "source": [
        "query = \"Are there black bear attacks there?\"\n",
        "index_path = \"robust04\"\n",
        "\n",
        "run_model(query, index_path)"
      ],
      "metadata": {
        "colab": {
          "base_uri": "https://localhost:8080/"
        },
        "id": "69ndxMEgGRED",
        "outputId": "962338f0-e35f-4bed-8f07-9247bf2e2d64"
      },
      "id": "69ndxMEgGRED",
      "execution_count": 103,
      "outputs": [
        {
          "output_type": "stream",
          "name": "stdout",
          "text": [
            "[(454.80620155038764, 'duerson'), (1364.418604651163, 'bruise'), (818.6511627906976, 'offensive'), (1364.418604651163, 'defensive'), (1364.418604651163, 'geezus')]\n"
          ]
        }
      ]
    }
  ],
  "metadata": {
    "kernelspec": {
      "display_name": "Python 3 (ipykernel)",
      "language": "python",
      "name": "python3"
    },
    "language_info": {
      "codemirror_mode": {
        "name": "ipython",
        "version": 3
      },
      "file_extension": ".py",
      "mimetype": "text/x-python",
      "name": "python",
      "nbconvert_exporter": "python",
      "pygments_lexer": "ipython3",
      "version": "3.12.7"
    },
    "colab": {
      "provenance": [],
      "toc_visible": true
    }
  },
  "nbformat": 4,
  "nbformat_minor": 5
}