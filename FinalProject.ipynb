{
  "cells": [
    {
      "cell_type": "code",
      "source": [
        "!apt-get install openjdk-21-jre-headless -qq > /dev/null\n",
        "import os\n",
        "os.environ[\"JAVA_HOME\"] = \"/usr/lib/jvm/java-21-openjdk-amd64\"\n",
        "!update-alternatives --set java /usr/lib/jvm/java-21-openjdk-amd64/bin/java\n",
        "!java -version"
      ],
      "metadata": {
        "colab": {
          "base_uri": "https://localhost:8080/"
        },
        "id": "RzM6O_WuBnhl",
        "outputId": "f2b3e2f3-0910-48be-862f-0d784017c12e"
      },
      "id": "RzM6O_WuBnhl",
      "execution_count": 4,
      "outputs": [
        {
          "output_type": "stream",
          "name": "stdout",
          "text": [
            "openjdk version \"21.0.5\" 2024-10-15\n",
            "OpenJDK Runtime Environment (build 21.0.5+11-Ubuntu-1ubuntu122.04)\n",
            "OpenJDK 64-Bit Server VM (build 21.0.5+11-Ubuntu-1ubuntu122.04, mixed mode, sharing)\n"
          ]
        }
      ]
    },
    {
      "cell_type": "code",
      "execution_count": 21,
      "id": "d86bfeeb-f61d-4226-90ee-93388ffca3f0",
      "metadata": {
        "id": "d86bfeeb-f61d-4226-90ee-93388ffca3f0"
      },
      "outputs": [],
      "source": [
        "import pyserini\n",
        "from pyserini.search.lucene import LuceneSearcher\n",
        "from pyserini.index import LuceneIndexReader\n",
        "from IPython.core.display import display, HTML\n",
        "from pyserini.search import get_topics\n",
        "import heapq"
      ]
    },
    {
      "cell_type": "code",
      "source": [
        "def run_model(query, index_path):\n",
        "  query = \"Are there black bear attacks there?\"\n",
        "\n",
        "  searcher, reader = initialize_model(\"robust04\")\n",
        "  print(get_recs(query, 10, searcher, reader))"
      ],
      "metadata": {
        "id": "a60GSHA_UElR"
      },
      "id": "a60GSHA_UElR",
      "execution_count": 44,
      "outputs": []
    },
    {
      "cell_type": "code",
      "source": [
        "def initialize_model(index_path):\n",
        "  searcher = LuceneSearcher.from_prebuilt_index(index_path)\n",
        "  reader = LuceneIndexReader.from_prebuilt_index(index_path)\n",
        "  return searcher, reader"
      ],
      "metadata": {
        "id": "4sxMal77-9Tp"
      },
      "id": "4sxMal77-9Tp",
      "execution_count": 45,
      "outputs": []
    },
    {
      "cell_type": "code",
      "source": [
        "MAX_RECS = 5\n",
        "\n",
        "def get_recs(query: str, n: int, searcher: LuceneSearcher, reader: LuceneIndexReader) -> list[str]:\n",
        "  hits = searcher.search(query, n)\n",
        "  for i in hits:\n",
        "    doc_vec = reader.get_document_vector(i.docid)\n",
        "    h = []\n",
        "    for t, f in doc_vec.items():\n",
        "      tf = f / len(doc_vec)\n",
        "      try:\n",
        "        df = reader.get_term_counts(t)[0]\n",
        "      except: # i have no idea why this is throwing an error, needs a closer look\n",
        "        df = 0\n",
        "      if df == 0:\n",
        "        idf = 0\n",
        "      else:\n",
        "        idf = reader.stats()['documents'] / df\n",
        "      tf_idf = tf * idf\n",
        "      heapq.heappush(h, (tf_idf, t))\n",
        "      if len(h) > MAX_RECS:\n",
        "        heapq.heappop(h)\n",
        "  return h"
      ],
      "metadata": {
        "id": "Pw4i7THmG-Zf"
      },
      "id": "Pw4i7THmG-Zf",
      "execution_count": 48,
      "outputs": []
    },
    {
      "cell_type": "code",
      "source": [
        "query = \"Are there black bear attacks there?\"\n",
        "index_path = \"robust04\"\n",
        "\n",
        "# we need some way to \"untokenize\" the data, words are meaningless rn\n",
        "run_model(query, index_path)"
      ],
      "metadata": {
        "colab": {
          "base_uri": "https://localhost:8080/"
        },
        "id": "69ndxMEgGRED",
        "outputId": "9f247366-e603-4ec6-b726-52882269e379"
      },
      "id": "69ndxMEgGRED",
      "execution_count": 49,
      "outputs": [
        {
          "output_type": "stream",
          "name": "stdout",
          "text": [
            "[(454.80620155038764, 'duerson'), (1364.418604651163, 'bruis'), (818.6511627906976, 'offens'), (1364.418604651163, 'defens'), (1364.418604651163, 'geezu')]\n"
          ]
        }
      ]
    }
  ],
  "metadata": {
    "kernelspec": {
      "display_name": "Python 3 (ipykernel)",
      "language": "python",
      "name": "python3"
    },
    "language_info": {
      "codemirror_mode": {
        "name": "ipython",
        "version": 3
      },
      "file_extension": ".py",
      "mimetype": "text/x-python",
      "name": "python",
      "nbconvert_exporter": "python",
      "pygments_lexer": "ipython3",
      "version": "3.12.7"
    },
    "colab": {
      "provenance": [],
      "toc_visible": true
    }
  },
  "nbformat": 4,
  "nbformat_minor": 5
}